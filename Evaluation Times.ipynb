{
 "cells": [
  {
   "cell_type": "code",
   "execution_count": 4,
   "id": "e6d28ed1",
   "metadata": {},
   "outputs": [],
   "source": [
    "import json\n",
    "import numpy as np\n",
    "import matplotlib.pyplot as plt\n",
    "import random\n",
    "import scipy.stats as st"
   ]
  },
  {
   "cell_type": "code",
   "execution_count": 5,
   "id": "8ce269f8",
   "metadata": {},
   "outputs": [],
   "source": [
    "# Load the Ground Truth:\n",
    "foldername = \"swdf_path\"\n",
    "dataset = \"swdf\"\n",
    "query_type = \"path\""
   ]
  },
  {
   "cell_type": "code",
   "execution_count": 6,
   "id": "4e9d71ca",
   "metadata": {},
   "outputs": [],
   "source": [
    "times = {}"
   ]
  },
  {
   "cell_type": "markdown",
   "id": "db643d59",
   "metadata": {},
   "source": [
    "# LMKG "
   ]
  },
  {
   "cell_type": "code",
   "execution_count": 7,
   "id": "6c75d1e6",
   "metadata": {},
   "outputs": [],
   "source": [
    "# Loading Data for LMKG\n",
    "gts_lmkg = np.load(\"../../Datasets/\"+dataset+\"/Results/\"+query_type+\"/execution_time/gts_lmkg.npy\")\n",
    "preds_lmkg = np.load(\"../../Datasets/\"+dataset+\"/Results/\"+query_type+\"/execution_time/preds_lmkg.npy\")\n",
    "sizes_lmkg = np.load(\"../../Datasets/\"+dataset+\"/Results/\"+query_type+\"/execution_time/sizes_lmkg.npy\")\n",
    "times_lmkg = np.load(\"../../Datasets/\"+dataset+\"/Results/\"+query_type+\"/execution_time/pred_times_lmkg.npy\")"
   ]
  },
  {
   "cell_type": "code",
   "execution_count": 8,
   "id": "794564b6",
   "metadata": {},
   "outputs": [
    {
     "data": {
      "text/plain": [
       "23342"
      ]
     },
     "execution_count": 8,
     "metadata": {},
     "output_type": "execute_result"
    }
   ],
   "source": [
    "len(times_lmkg)"
   ]
  },
  {
   "cell_type": "code",
   "execution_count": 9,
   "id": "e45d1b7d",
   "metadata": {},
   "outputs": [],
   "source": [
    "LMKG = [np.mean(times_lmkg[sizes_lmkg ==2]), np.mean(times_lmkg[sizes_lmkg ==3]),\n",
    "        np.mean(times_lmkg[sizes_lmkg ==5]),\n",
    "       np.mean(times_lmkg[sizes_lmkg ==8])]\n",
    "\n",
    "LMKG_MIN = [np.min(times_lmkg[sizes_lmkg ==2]),\n",
    "            np.min(times_lmkg[sizes_lmkg ==3]),\n",
    "        np.min(times_lmkg[sizes_lmkg ==5]),\n",
    "       np.min(times_lmkg[sizes_lmkg ==8])]\n",
    "\n",
    "LMKG_MAX = [np.max(times_lmkg[sizes_lmkg ==2]), np.max(times_lmkg[sizes_lmkg ==3]),\n",
    "        np.max(times_lmkg[sizes_lmkg ==5]),\n",
    "       np.max(times_lmkg[sizes_lmkg ==8])]"
   ]
  },
  {
   "cell_type": "code",
   "execution_count": 10,
   "id": "e50bbbb1",
   "metadata": {},
   "outputs": [],
   "source": [
    "LMKG_MIN = [st.t.interval(0.95, len(times_lmkg[sizes_lmkg ==i])-1, loc=np.mean(times_lmkg[sizes_lmkg ==i]),\n",
    "              scale=st.sem(times_lmkg[sizes_lmkg ==i]))[0] for i in (2,3,5,8)]\n"
   ]
  },
  {
   "cell_type": "code",
   "execution_count": 11,
   "id": "a54163cd",
   "metadata": {},
   "outputs": [],
   "source": [
    "LMKG_MAX = [st.t.interval(0.95, len(times_lmkg[sizes_lmkg ==i])-1, loc=np.mean(times_lmkg[sizes_lmkg ==i]),\n",
    "              scale=st.sem(times_lmkg[sizes_lmkg ==i]))[1] for i in (2,3,5,8)]"
   ]
  },
  {
   "cell_type": "code",
   "execution_count": 12,
   "id": "34f9fe08",
   "metadata": {},
   "outputs": [],
   "source": [
    "# Loading Data for GNCE\n",
    "gts = np.load(\"../../Datasets/\"+dataset+\"/Results/\"+query_type+\"/execution_time/gts.npy\")\n",
    "preds = np.load(\"../../Datasets/\"+dataset+\"/Results/\"+query_type+\"/execution_time/preds.npy\")\n",
    "sizes = np.load(\"../../Datasets/\"+dataset+\"/Results/\"+query_type+\"/execution_time/sizes.npy\")\n",
    "times = np.load(\"../../Datasets/\"+dataset+\"/Results/\"+query_type+\"/execution_time/pred_times.npy\")"
   ]
  },
  {
   "cell_type": "code",
   "execution_count": 13,
   "id": "83c9a4ff",
   "metadata": {},
   "outputs": [
    {
     "data": {
      "text/plain": [
       "array([2, 3, 4, 5, 6, 8, 9])"
      ]
     },
     "execution_count": 13,
     "metadata": {},
     "output_type": "execute_result"
    }
   ],
   "source": [
    "np.unique(sizes)"
   ]
  },
  {
   "cell_type": "code",
   "execution_count": 14,
   "id": "671b8d0f",
   "metadata": {},
   "outputs": [
    {
     "data": {
      "text/plain": [
       "23342"
      ]
     },
     "execution_count": 14,
     "metadata": {},
     "output_type": "execute_result"
    }
   ],
   "source": [
    "len(times)"
   ]
  },
  {
   "cell_type": "code",
   "execution_count": 15,
   "id": "bd742ed0",
   "metadata": {},
   "outputs": [],
   "source": [
    "GNCE = [np.mean(times[sizes ==2]), np.mean(times[sizes ==3]),\n",
    "        np.mean(times[sizes ==5]),\n",
    "       np.mean(times[sizes ==8])]\n",
    "\n",
    "GNCE_MIN = [np.min(times[sizes ==2]), np.min(times[sizes ==3]),\n",
    "        np.min(times[sizes ==5]),\n",
    "       np.min(times[sizes ==8])]\n",
    "\n",
    "GNCE_MAX = [np.max(times[sizes ==2]), np.max(times[sizes ==3]),\n",
    "        np.max(times[sizes ==5]),\n",
    "       np.max(times[sizes ==8])]"
   ]
  },
  {
   "cell_type": "code",
   "execution_count": 16,
   "id": "5e8f2c18",
   "metadata": {},
   "outputs": [],
   "source": [
    "GNCE_MIN = [st.t.interval(0.95, len(times[sizes ==i])-1, loc=np.mean(times[sizes ==i]),\n",
    "              scale=st.sem(times[sizes ==i]))[0] for i in (2,3,5,8)]\n",
    "\n",
    "GNCE_MAX = [st.t.interval(0.95, len(times[sizes ==i])-1, loc=np.mean(times[sizes ==i]),\n",
    "              scale=st.sem(times[sizes ==i]))[1] for i in (2,3,5,8)]\n",
    "\n"
   ]
  },
  {
   "cell_type": "code",
   "execution_count": 17,
   "id": "4f21b490",
   "metadata": {},
   "outputs": [],
   "source": [
    "# Loading Data for LSS\n",
    "gts = np.load(\"../../Datasets/\"+dataset+\"/Results/\"+query_type+\"/execution_time/gts_lss.npy\")\n",
    "preds = np.load(\"../../Datasets/\"+dataset+\"/Results/\"+query_type+\"/execution_time/preds_lss.npy\")\n",
    "sizes = np.load(\"../../Datasets/\"+dataset+\"/Results/\"+query_type+\"/execution_time/sizes_lss.npy\")\n",
    "times = np.load(\"../../Datasets/\"+dataset+\"/Results/\"+query_type+\"/execution_time/pred_times_lss.npy\")"
   ]
  },
  {
   "cell_type": "code",
   "execution_count": 18,
   "id": "01fbfba2",
   "metadata": {},
   "outputs": [],
   "source": [
    "LSS = [np.mean(times[sizes ==3]), np.mean(times[sizes ==4]),\n",
    "        np.mean(times[sizes ==6]),\n",
    "       np.mean(times[sizes ==9])]\n",
    "\n",
    "LSS_MIN = [np.min(times[sizes ==3]), np.min(times[sizes ==4]),\n",
    "        np.min(times[sizes ==6]),\n",
    "       np.min(times[sizes ==9])]\n",
    "\n",
    "LSS_MAX = [np.max(times[sizes ==3]), np.max(times[sizes ==4]),\n",
    "        np.max(times[sizes ==6]),\n",
    "       np.max(times[sizes ==9])]"
   ]
  },
  {
   "cell_type": "code",
   "execution_count": 19,
   "id": "0a442787",
   "metadata": {},
   "outputs": [],
   "source": [
    "LSS_MIN = [st.t.interval(0.95, len(times[sizes ==i])-1, loc=np.mean(times[sizes ==i]),\n",
    "              scale=st.sem(times[sizes ==i]))[0] for i in (3,4,6,9)]\n",
    "\n",
    "LSS_MAX = [st.t.interval(0.95, len(times[sizes ==i])-1, loc=np.mean(times[sizes ==i]),\n",
    "              scale=st.sem(times[sizes ==i]))[1] for i in (3,4,6,9)]\n",
    "\n"
   ]
  },
  {
   "cell_type": "code",
   "execution_count": 20,
   "id": "ecfa4847",
   "metadata": {},
   "outputs": [
    {
     "data": {
      "text/plain": [
       "22273"
      ]
     },
     "execution_count": 20,
     "metadata": {},
     "output_type": "execute_result"
    }
   ],
   "source": [
    "len(times)"
   ]
  },
  {
   "cell_type": "code",
   "execution_count": 21,
   "id": "fc07aaa5",
   "metadata": {},
   "outputs": [
    {
     "data": {
      "text/plain": [
       "[2.023983569372268, 2.567854113594295, 3.727642156310001, 5.436202480831859]"
      ]
     },
     "execution_count": 21,
     "metadata": {},
     "output_type": "execute_result"
    }
   ],
   "source": [
    "LSS"
   ]
  },
  {
   "cell_type": "code",
   "execution_count": 23,
   "id": "1fa90b0d",
   "metadata": {},
   "outputs": [
    {
     "data": {
      "text/plain": [
       "array([ 3,  4,  5,  6,  7,  8,  9, 10, 11])"
      ]
     },
     "execution_count": 23,
     "metadata": {},
     "output_type": "execute_result"
    }
   ],
   "source": [
    "np.unique(sizes)"
   ]
  },
  {
   "cell_type": "markdown",
   "id": "802046c5",
   "metadata": {},
   "source": [
    "## CSET "
   ]
  },
  {
   "cell_type": "code",
   "execution_count": 24,
   "id": "33ec1992",
   "metadata": {},
   "outputs": [],
   "source": [
    "# Loading raw predictions\n",
    "file = open('/home/tim/gcare/data/result/accuracy/' + foldername + \"/\" + dataset + '_cset_p0.03_s0_query_result.txt')\n",
    "Lines = file.readlines()\n",
    "file.close()\n",
    "\n",
    "# Loading Lengths of Queries\n",
    "data = []\n",
    "with open(\"/home/tim/cardinality_estimator/Datasets/\"+ dataset + \"/\"+  query_type + \"/Joined_Queries.json\") as f:\n",
    "    test_data = json.load(f)\n",
    "    data += test_data\n",
    "random.Random(4).shuffle(data)\n",
    "test_data = data[int(0.8 * len(data)):]\n",
    "\n",
    "sizes_raw = np.array([len(q[\"triples\"]) for index, q in enumerate(test_data) if index < 1000])"
   ]
  },
  {
   "cell_type": "code",
   "execution_count": 25,
   "id": "ff18cd92",
   "metadata": {},
   "outputs": [
    {
     "name": "stdout",
     "output_type": "stream",
     "text": [
      "Mean Evaluation Time:  3.1839203863179075\n"
     ]
    }
   ],
   "source": [
    "times = []\n",
    "sizes = []\n",
    "for i in range(0, len(Lines)-1, 2):\n",
    "    query_idx = Lines[i].split(' ')[0].split('_')[-1].split('.')[0]\n",
    "    eval_time = Lines[i].split(' ')[2]\n",
    "    times.append(float(eval_time))\n",
    "    sizes.append(sizes_raw[int(query_idx)])\n",
    "\n",
    "print('Mean Evaluation Time: ', np.mean(times))\n",
    "times = np.array(times)\n",
    "sizes = np.array(sizes)"
   ]
  },
  {
   "cell_type": "markdown",
   "id": "9a0f811e",
   "metadata": {},
   "source": [
    "#### Getting the corresponding Query Sizes(same for all G-Care Methods)\n",
    "\n"
   ]
  },
  {
   "cell_type": "code",
   "execution_count": 26,
   "id": "d8e1bc21",
   "metadata": {},
   "outputs": [],
   "source": [
    "CSET = [np.mean(times[sizes ==2]), np.mean(times[sizes ==3]),\n",
    "        np.mean(times[sizes ==5]),\n",
    "       np.mean(times[sizes ==8])]\n",
    "\n",
    "CSET_MIN = [np.min(times[sizes ==2]), np.min(times[sizes ==3]),\n",
    "        np.min(times[sizes ==5]),\n",
    "       np.min(times[sizes ==8])]\n",
    "\n",
    "CSET_MAX = [np.max(times[sizes ==2]), np.max(times[sizes ==3]),\n",
    "        np.max(times[sizes ==5]),\n",
    "       np.max(times[sizes ==8])]"
   ]
  },
  {
   "cell_type": "code",
   "execution_count": 27,
   "id": "5293f094",
   "metadata": {},
   "outputs": [],
   "source": [
    "CSET_MIN = [st.t.interval(0.95, len(times[sizes ==i])-1, loc=np.mean(times[sizes ==i]),\n",
    "              scale=st.sem(times[sizes ==i]))[0] for i in (2,3,5,8)]\n",
    "\n",
    "CSET_MAX = [st.t.interval(0.95, len(times[sizes ==i])-1, loc=np.mean(times[sizes ==i]),\n",
    "              scale=st.sem(times[sizes ==i]))[1] for i in (2,3,5,8)]\n",
    "\n"
   ]
  },
  {
   "cell_type": "markdown",
   "id": "21a3b46b",
   "metadata": {},
   "source": [
    "### Sum RDF "
   ]
  },
  {
   "cell_type": "code",
   "execution_count": 28,
   "id": "74bb35e9",
   "metadata": {},
   "outputs": [],
   "source": [
    "file = open('/home/tim/gcare/data/result/accuracy/' + foldername + \"/\" + dataset + '_sumrdf_p0.03_s0_query_result.txt')\n",
    "Lines = file.readlines()\n",
    "file.close()"
   ]
  },
  {
   "cell_type": "code",
   "execution_count": 29,
   "id": "11b47051",
   "metadata": {},
   "outputs": [
    {
     "name": "stdout",
     "output_type": "stream",
     "text": [
      "Mean Evaluation Time:  102.70555430700001\n"
     ]
    }
   ],
   "source": [
    "times = []\n",
    "sizes = []\n",
    "for i in range(0, len(Lines)-1, 2):\n",
    "    query_idx = Lines[i].split(' ')[0].split('_')[-1].split('.')[0]\n",
    "    eval_time = Lines[i].split(' ')[2]\n",
    "    times.append(float(eval_time))\n",
    "    sizes.append(sizes_raw[int(query_idx)])\n",
    "\n",
    "print('Mean Evaluation Time: ', np.mean(times))\n",
    "times = np.array(times)\n",
    "sizes = np.array(sizes)"
   ]
  },
  {
   "cell_type": "code",
   "execution_count": 30,
   "id": "a0b020c3",
   "metadata": {},
   "outputs": [],
   "source": [
    "SUMRDF = [np.mean(times[sizes ==2]), np.mean(times[sizes ==3]),\n",
    "        np.mean(times[sizes ==5]),\n",
    "       np.mean(times[sizes ==8])]\n",
    "\n",
    "SUMRDF_MIN = [np.min(times[sizes ==2]), np.min(times[sizes ==3]),\n",
    "        np.min(times[sizes ==5]),\n",
    "       np.min(times[sizes ==8])]\n",
    "\n",
    "SUMRDF_MAX = [np.max(times[sizes ==2]), np.max(times[sizes ==3]),\n",
    "        np.max(times[sizes ==5]),\n",
    "       np.max(times[sizes ==8])]\n"
   ]
  },
  {
   "cell_type": "code",
   "execution_count": 31,
   "id": "63851126",
   "metadata": {},
   "outputs": [],
   "source": [
    "SUMRDF_MIN = [st.t.interval(0.95, len(times[sizes ==i])-1, loc=np.mean(times[sizes ==i]),\n",
    "              scale=st.sem(times[sizes ==i]))[0] for i in (2,3,5,8)]\n",
    "\n",
    "SUMRDF_MAX = [st.t.interval(0.95, len(times[sizes ==i])-1, loc=np.mean(times[sizes ==i]),\n",
    "              scale=st.sem(times[sizes ==i]))[1] for i in (2,3,5,8)]\n",
    "\n"
   ]
  },
  {
   "cell_type": "code",
   "execution_count": 32,
   "id": "61e6c98b",
   "metadata": {},
   "outputs": [],
   "source": [
    "if dataset == 'yago':\n",
    "    SUMRDF = [0,0,0,0]\n",
    "    SUMRDF_MIN = [0,0,0,0]\n",
    "    SUMRDF_MAX = [0,0,0,0]"
   ]
  },
  {
   "cell_type": "markdown",
   "id": "1d8c5d1b",
   "metadata": {},
   "source": [
    "### IMPR"
   ]
  },
  {
   "cell_type": "code",
   "execution_count": 33,
   "id": "57170354",
   "metadata": {},
   "outputs": [],
   "source": [
    "file = open('/home/tim/gcare/data/result/accuracy/' + foldername + \"/\" + dataset + '_impr_p0.03_s0_query_result.txt')\n",
    "Lines = file.readlines()\n",
    "file.close()"
   ]
  },
  {
   "cell_type": "code",
   "execution_count": 34,
   "id": "616d4ecd",
   "metadata": {},
   "outputs": [
    {
     "name": "stdout",
     "output_type": "stream",
     "text": [
      "Mean Evaluation Time:  1.6977787297999998\n"
     ]
    }
   ],
   "source": [
    "times = []\n",
    "sizes = []\n",
    "for i in range(0, len(Lines)-1, 2):\n",
    "    query_idx = Lines[i].split(' ')[0].split('_')[-1].split('.')[0]\n",
    "    eval_time = Lines[i].split(' ')[2]\n",
    "    times.append(float(eval_time))\n",
    "    sizes.append(sizes_raw[int(query_idx)])\n",
    "\n",
    "print('Mean Evaluation Time: ', np.mean(times))\n",
    "times = np.array(times)\n",
    "sizes = np.array(sizes)"
   ]
  },
  {
   "cell_type": "code",
   "execution_count": 35,
   "id": "7492b213",
   "metadata": {},
   "outputs": [],
   "source": [
    "IMPR = [np.mean(times[sizes ==2]), np.mean(times[sizes ==3]),\n",
    "        np.mean(times[sizes ==5]),\n",
    "       np.mean(times[sizes ==8])]\n",
    "\n",
    "IMPR_MIN = [np.min(times[sizes ==2]), np.min(times[sizes ==3]),\n",
    "        np.min(times[sizes ==5]),\n",
    "       np.min(times[sizes ==8])]\n",
    "\n",
    "IMPR_MAX = [np.max(times[sizes ==2]), np.max(times[sizes ==3]),\n",
    "        np.max(times[sizes ==5]),\n",
    "       np.max(times[sizes ==8])]"
   ]
  },
  {
   "cell_type": "code",
   "execution_count": 36,
   "id": "c63c01e9",
   "metadata": {},
   "outputs": [],
   "source": [
    "IMPR_MIN = [st.t.interval(0.95, len(times[sizes ==i])-1, loc=np.mean(times[sizes ==i]),\n",
    "              scale=st.sem(times[sizes ==i]))[0] for i in (2,3,5,8)]\n",
    "\n",
    "IMPR_MAX = [st.t.interval(0.95, len(times[sizes ==i])-1, loc=np.mean(times[sizes ==i]),\n",
    "              scale=st.sem(times[sizes ==i]))[1] for i in (2,3,5,8)]\n",
    "\n"
   ]
  },
  {
   "cell_type": "code",
   "execution_count": 37,
   "id": "2fd8e893",
   "metadata": {},
   "outputs": [],
   "source": [
    "IMPR = [i * 30 for i in IMPR]\n",
    "IMPR_MIN = [i * 30 for i in IMPR_MIN]\n",
    "IMPR_MAX = [i * 30 for i in IMPR_MAX]"
   ]
  },
  {
   "cell_type": "code",
   "execution_count": 38,
   "id": "94ce316d",
   "metadata": {},
   "outputs": [
    {
     "data": {
      "text/plain": [
       "[1.4005575, 58.428229160256414, 41.31103159999999, 49.30143339204546]"
      ]
     },
     "execution_count": 38,
     "metadata": {},
     "output_type": "execute_result"
    }
   ],
   "source": [
    "IMPR"
   ]
  },
  {
   "cell_type": "markdown",
   "id": "32fc0447",
   "metadata": {},
   "source": [
    "## JSUB "
   ]
  },
  {
   "cell_type": "code",
   "execution_count": 39,
   "id": "cc940bc1",
   "metadata": {},
   "outputs": [],
   "source": [
    "file = open('/home/tim/gcare/data/result/accuracy/' + foldername + \"/\" + dataset + '_jsub_p0.03_s0_query_result.txt')\n",
    "Lines = file.readlines()\n",
    "file.close()"
   ]
  },
  {
   "cell_type": "code",
   "execution_count": 40,
   "id": "f9e38ec1",
   "metadata": {},
   "outputs": [
    {
     "name": "stdout",
     "output_type": "stream",
     "text": [
      "Mean Evaluation Time:  0.28642235829999996\n"
     ]
    }
   ],
   "source": [
    "times = []\n",
    "sizes = []\n",
    "for i in range(0, len(Lines)-1, 2):\n",
    "    query_idx = Lines[i].split(' ')[0].split('_')[-1].split('.')[0]\n",
    "    eval_time = Lines[i].split(' ')[2]\n",
    "    times.append(float(eval_time))\n",
    "    sizes.append(sizes_raw[int(query_idx)])\n",
    "\n",
    "print('Mean Evaluation Time: ', np.mean(times))\n",
    "times = np.array(times)\n",
    "sizes = np.array(sizes)"
   ]
  },
  {
   "cell_type": "code",
   "execution_count": 41,
   "id": "3f8f3330",
   "metadata": {},
   "outputs": [],
   "source": [
    "JSUB = [np.mean(times[sizes ==2]), np.mean(times[sizes ==3]),\n",
    "        np.mean(times[sizes ==5]),\n",
    "       np.mean(times[sizes ==8])]\n",
    "\n",
    "JSUB_MIN = [np.min(times[sizes ==2]), np.min(times[sizes ==3]),\n",
    "        np.min(times[sizes ==5]),\n",
    "       np.min(times[sizes ==8])]\n",
    "\n",
    "JSUB_MAX = [np.max(times[sizes ==2]), np.max(times[sizes ==3]),\n",
    "        np.max(times[sizes ==5]),\n",
    "       np.max(times[sizes ==8])]"
   ]
  },
  {
   "cell_type": "code",
   "execution_count": 42,
   "id": "ab472094",
   "metadata": {},
   "outputs": [],
   "source": [
    "JSUB_MIN = [st.t.interval(0.95, len(times[sizes ==i])-1, loc=np.mean(times[sizes ==i]),\n",
    "              scale=st.sem(times[sizes ==i]))[0] for i in (2,3,5,8)]\n",
    "\n",
    "JSUB_MAX = [st.t.interval(0.95, len(times[sizes ==i])-1, loc=np.mean(times[sizes ==i]),\n",
    "              scale=st.sem(times[sizes ==i]))[1] for i in (2,3,5,8)]\n",
    "\n",
    "JSUB = [i * 30 for i in JSUB]\n",
    "JSUB_MIN = [i * 30 for i in JSUB_MIN]\n",
    "JSUB_MAX = [i * 30 for i in JSUB_MAX]"
   ]
  },
  {
   "cell_type": "markdown",
   "id": "6086b383",
   "metadata": {},
   "source": [
    "### WJOIN "
   ]
  },
  {
   "cell_type": "code",
   "execution_count": 43,
   "id": "1cb998cc",
   "metadata": {},
   "outputs": [],
   "source": [
    "file = open('/home/tim/gcare/data/result/accuracy/' + foldername + \"/\" + dataset + '_wj_p0.03_s0_query_result.txt')\n",
    "Lines = file.readlines()\n",
    "file.close()"
   ]
  },
  {
   "cell_type": "code",
   "execution_count": 44,
   "id": "4e4d4756",
   "metadata": {},
   "outputs": [
    {
     "name": "stdout",
     "output_type": "stream",
     "text": [
      "Mean Evaluation Time:  0.573153311\n"
     ]
    }
   ],
   "source": [
    "times = []\n",
    "sizes = []\n",
    "for i in range(0, len(Lines)-1, 2):\n",
    "    query_idx = Lines[i].split(' ')[0].split('_')[-1].split('.')[0]\n",
    "    eval_time = Lines[i].split(' ')[2]\n",
    "    times.append(float(eval_time))\n",
    "    sizes.append(sizes_raw[int(query_idx)])\n",
    "\n",
    "print('Mean Evaluation Time: ', np.mean(times))\n",
    "times = np.array(times)\n",
    "sizes = np.array(sizes)"
   ]
  },
  {
   "cell_type": "code",
   "execution_count": 45,
   "id": "082caa8f",
   "metadata": {},
   "outputs": [],
   "source": [
    "WJOIN = [np.mean(times[sizes ==2]), np.mean(times[sizes ==3]),\n",
    "        np.mean(times[sizes ==5]),\n",
    "       np.mean(times[sizes ==8])]\n",
    "\n",
    "WJOIN_MIN = [np.min(times[sizes ==2]), np.min(times[sizes ==3]),\n",
    "        np.min(times[sizes ==5]),\n",
    "       np.min(times[sizes ==8])]\n",
    "\n",
    "WJOIN_MAX = [np.max(times[sizes ==2]), np.max(times[sizes ==3]),\n",
    "        np.max(times[sizes ==5]),\n",
    "       np.max(times[sizes ==8])]"
   ]
  },
  {
   "cell_type": "code",
   "execution_count": 46,
   "id": "d6007270",
   "metadata": {},
   "outputs": [],
   "source": [
    "WJOIN_MIN = [st.t.interval(0.95, len(times[sizes ==i])-1, loc=np.mean(times[sizes ==i]),\n",
    "              scale=st.sem(times[sizes ==i]))[0] for i in (2,3,5,8)]\n",
    "\n",
    "WJOIN_MAX = [st.t.interval(0.95, len(times[sizes ==i])-1, loc=np.mean(times[sizes ==i]),\n",
    "              scale=st.sem(times[sizes ==i]))[1] for i in (2,3,5,8)]\n",
    "\n",
    "WJOIN = [i * 30 for i in WJOIN]\n",
    "WJOIN_MIN = [i * 30 for i in WJOIN_MIN]\n",
    "WJOIN_MAX = [i * 30 for i in WJOIN_MAX]"
   ]
  },
  {
   "cell_type": "markdown",
   "id": "84dc53b0",
   "metadata": {},
   "source": [
    "### Final Barplot"
   ]
  },
  {
   "cell_type": "code",
   "execution_count": 47,
   "id": "3688ab95",
   "metadata": {},
   "outputs": [],
   "source": [
    "import matplotlib as mpl\n",
    "from cycler import cycler\n",
    "\n",
    "bar_cycle = (cycler('hatch', ['//////', '-----', '...','oooo', 'xxx','**', 'OOO', '\\\\\\\\']))\n",
    "styles = bar_cycle()\n",
    "\n",
    "colormap = mpl.cm.tab10.colors"
   ]
  },
  {
   "cell_type": "code",
   "execution_count": 48,
   "id": "e214a2c3",
   "metadata": {},
   "outputs": [
    {
     "name": "stderr",
     "output_type": "stream",
     "text": [
      "/tmp/ipykernel_40125/3220874644.py:46: UserWarning: Attempt to set non-positive ylim on a log-scaled axis will be ignored.\n",
      "  plt.ylim(0,6500)\n"
     ]
    },
    {
     "data": {
      "image/png": "[encoded data removed]",
      "text/plain": [
       "<Figure size 640x480 with 1 Axes>"
      ]
     },
     "metadata": {},
     "output_type": "display_data"
    }
   ],
   "source": [
    "X_Axis = np.arange(len(GNCE))\n",
    "\n",
    "data = [GNCE, LMKG, LSS, WJOIN, IMPR, JSUB, CSET, SUMRDF]\n",
    "if dataset == 'yago':\n",
    "    labels = ['GNCE', 'LMKG', 'LSS', 'Wanderjoin', 'impr', 'jsub', 'CSET', '']\n",
    "else:\n",
    "    labels = ['GNCE', 'LMKG', 'LSS', 'Wanderjoin', 'impr', 'jsub', 'CSET', 'SUMRDF']\n",
    "\n",
    "\n",
    "#labels = ['GNCE', 'LMKG', 'LSS', 'CSET', 'SUMRDF', 'IMPR', 'JSUB', 'WJOIN']\n",
    "datamin = [GNCE_MIN, LMKG_MIN, LSS_MIN, WJOIN_MIN, IMPR_MIN, JSUB_MIN, CSET_MIN, SUMRDF_MIN]\n",
    "datamax = [GNCE_MAX, LMKG_MAX, LSS_MAX, WJOIN_MAX, IMPR_MAX, JSUB_MAX, CSET_MAX, SUMRDF_MAX]\n",
    "\n",
    "\n",
    "#data = [GNCE, LMKG, LSS, CSET, IMPR, JSUB, WJOIN]\n",
    "#labels = ['GNCE', 'LMKG', 'LSS', 'CSET', 'IMPR', 'JSUB', 'WJOIN']\n",
    "#datamin = [GNCE_MIN, LMKG_MIN, LSS_MIN, CSET_MIN, IMPR_MIN, JSUB_MIN, WJOIN_MIN]\n",
    "#datamax = [GNCE_MAX, LMKG_MAX, LSS_MAX, CSET_MAX, IMPR_MAX, JSUB_MAX, WJOIN_MAX]\n",
    "\n",
    "min_offset = int(len(data)/2) * 0.1\n",
    "\n",
    "for i in range(len(data)):\n",
    "    hatch_color = list(colormap[i])\n",
    "    plt.rcParams['hatch.color'] = colormap[i]\n",
    "    mins = list(np.array(data[i]) - np.array(datamin[i]))\n",
    "    maxs = list(np.array(datamax[i]) - np.array(data[i]))\n",
    "\n",
    "    errs = np.array([[mins[j], maxs[j]] for j in range(len(datamax[i]))]).T\n",
    "    plt.bar(X_Axis - min_offset + i*0.1, data[i], \n",
    "            0.1, label= labels[i],\n",
    "            color=colormap[i], alpha=0.7,\n",
    "            yerr = errs,\n",
    "            capsize=5,\n",
    "            ecolor = 'darkgrey',\n",
    "            **next(styles))\n",
    "\n",
    "\n",
    "#plt.bar(X_Axis - 0.1,GNCE, 0.1, label=\"GNCE\")\n",
    "#plt.bar(X_Axis - 0.0,LMKG, 0.1, label=\"LMKG\")\n",
    "#plt.bar(X_Axis + 0.1,LSS, 0.1, label=\"LSS\")\n",
    "plt.legend(prop={'size': 6})\n",
    "plt.yscale(\"log\")\n",
    "plt.xticks(X_Axis, [\"2\", \"3\", \"5\", \"8\"])\n",
    "plt.xlabel(\"Query Size\")\n",
    "plt.ylabel(\"Mean Execution Time [ms]\")\n",
    "plt.ylim(0,6500)\n",
    "plt.savefig(dataset+ \"_\"+ query_type + \"_execution_times.pdf\")"
   ]
  }
 ],
 "metadata": {
  "kernelspec": {
   "display_name": "Python 3 (ipykernel)",
   "language": "python",
   "name": "python3"
  },
  "language_info": {
   "codemirror_mode": {
    "name": "ipython",
    "version": 3
   },
   "file_extension": ".py",
   "mimetype": "text/x-python",
   "name": "python",
   "nbconvert_exporter": "python",
   "pygments_lexer": "ipython3",
   "version": "3.8.10"
  }
 },
 "nbformat": 4,
 "nbformat_minor": 5
}
