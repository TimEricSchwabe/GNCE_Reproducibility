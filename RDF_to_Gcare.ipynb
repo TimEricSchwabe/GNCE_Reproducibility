{
 "cells": [
  {
   "cell_type": "markdown",
   "id": "e4c01623",
   "metadata": {},
   "source": [
    "# This Script transforms a .ttl file with URIS containing ids to a .txt file in the \"G-Care\" format\n"
   ]
  },
  {
   "cell_type": "code",
   "execution_count": 1,
   "id": "fa6714f1",
   "metadata": {},
   "outputs": [],
   "source": [
    "import os\n",
    "import json\n",
    "import random\n",
    "from tqdm import tqdm"
   ]
  },
  {
   "cell_type": "code",
   "execution_count": 3,
   "id": "d8a2ad1f",
   "metadata": {},
   "outputs": [],
   "source": [
    "# Sets of entities and predicates\n",
    "vertices = set()\n",
    "predicates = set()"
   ]
  },
  {
   "cell_type": "code",
   "execution_count": 4,
   "id": "052ada4e",
   "metadata": {},
   "outputs": [],
   "source": [
    "# Declare which URI corresponds to rdf:type\n",
    "#rdf_type_uri = \"<http://example.com/13000179>\" # Yago\n",
    "rdf_type_uri = \"<http://example.org/1>\" # Lubm\n",
    "#rdf_type_uri = '<http://ex.org/03>' # SWDF"
   ]
  },
  {
   "cell_type": "code",
   "execution_count": 5,
   "id": "2bb16958",
   "metadata": {},
   "outputs": [
    {
     "name": "stderr",
     "output_type": "stream",
     "text": [
      "2688849it [00:02, 1327015.41it/s]\n"
     ]
    }
   ],
   "source": [
    "# Add all entities and predicates from the .ttl file\n",
    "l = 0\n",
    "ttl_file = open(\"/home/tim/cardinality_estimator/Datasets/lubm/graph/lubm.ttl\", \"r\")\n",
    "for line in tqdm(ttl_file):\n",
    "    atoms = line.split(\" \")[:-1]\n",
    "    #if not atoms == []:\n",
    "    if True:\n",
    "        l += 1\n",
    "        vertices.add(atoms[0])\n",
    "        vertices.add(atoms[2])\n",
    "        predicates.add(atoms[1])"
   ]
  },
  {
   "cell_type": "code",
   "execution_count": 6,
   "id": "aeb38a14",
   "metadata": {},
   "outputs": [],
   "source": [
    "# We need to map the URL ids to entity and predicate ids\n",
    "id_to_id_mapping = {}\n",
    "id_to_id_mapping_predicate = {}"
   ]
  },
  {
   "cell_type": "code",
   "execution_count": 7,
   "id": "990b6d4c",
   "metadata": {},
   "outputs": [
    {
     "name": "stderr",
     "output_type": "stream",
     "text": [
      "100%|██████████████████████████████████████████████████████████████████████████████████████████████████████████████████████████████████████████████████████████| 664048/664048 [00:00<00:00, 762881.25it/s]\n"
     ]
    }
   ],
   "source": [
    "# Creating Vertex Dict and save entity mappings\n",
    "vertex_dict = {}\n",
    "vid = 0\n",
    "for vertex in tqdm(vertices):\n",
    "    dvid = vertex.split(\"/\")[-1].replace(\">\", \"\")\n",
    "    #vertex_dict[vertex] = [dvid]\n",
    "    vertex_dict[vertex] = [vid]\n",
    "    id_to_id_mapping[vertex] = vid\n",
    "    vid += 1"
   ]
  },
  {
   "cell_type": "code",
   "execution_count": 8,
   "id": "5be799a3",
   "metadata": {},
   "outputs": [],
   "source": [
    "# Saving Mappings for Predicates\n",
    "pid = 0\n",
    "for p in predicates:\n",
    "    id_to_id_mapping_predicate[p] = pid\n",
    "    pid += 1"
   ]
  },
  {
   "cell_type": "code",
   "execution_count": 9,
   "id": "94632e02",
   "metadata": {},
   "outputs": [
    {
     "name": "stderr",
     "output_type": "stream",
     "text": [
      "2688849it [00:01, 1886551.81it/s]\n"
     ]
    }
   ],
   "source": [
    "# Add Vertex types\n",
    "ttl_file = open(\"/home/tim/cardinality_estimator/Datasets/lubm/graph/lubm.ttl\", \"r\")\n",
    "for line in tqdm(ttl_file):\n",
    "    atoms = line.split(\" \")[:-1]\n",
    "    # If triple has predicate rdf:type\n",
    "    if atoms[1] == rdf_type_uri:\n",
    "        vertex_dict[atoms[0]] += vertex_dict[atoms[2]]\n"
   ]
  },
  {
   "cell_type": "code",
   "execution_count": 10,
   "id": "f2a3fb43",
   "metadata": {},
   "outputs": [],
   "source": [
    "# Add Default Label if entity has no types:\n",
    "for v in vertex_dict:\n",
    "    if len(vertex_dict[v]) == 1:\n",
    "        vertex_dict[v].append(0)"
   ]
  },
  {
   "cell_type": "code",
   "execution_count": 11,
   "id": "2904ad4c",
   "metadata": {},
   "outputs": [
    {
     "name": "stderr",
     "output_type": "stream",
     "text": [
      "2688849it [00:04, 662380.89it/s]\n"
     ]
    }
   ],
   "source": [
    "# Creating Edge List\n",
    "edge_list = []\n",
    "ttl_file = open(\"/home/tim/cardinality_estimator/Datasets/lubm/graph/lubm.ttl\", \"r\")\n",
    "for tp in tqdm(ttl_file):\n",
    "    tp = tp.split(\" \")[:-1]\n",
    "    #edge_label = tp[1].split(\"/\")[-1].replace(\">\", \"\") if not \"?\" in tp[1] else -1\n",
    "    edge_list.append([vertex_dict[tp[0]][0], vertex_dict[tp[2]][0], id_to_id_mapping_predicate[tp[1]]])"
   ]
  },
  {
   "cell_type": "code",
   "execution_count": 13,
   "id": "fbc7255e",
   "metadata": {},
   "outputs": [
    {
     "name": "stderr",
     "output_type": "stream",
     "text": [
      "100%|███████████████████████████| 13000080/13000080 [00:21<00:00, 617045.02it/s]\n",
      "100%|██████████████████████████| 58276870/58276870 [00:44<00:00, 1314373.99it/s]\n"
     ]
    }
   ],
   "source": [
    "# Writing the Data File\n",
    "with open(\"/home/tim/gcare/data/dataset/yago/yago.txt\", \"w\") as f:\n",
    "    f.write(\"t # 1\")\n",
    "    f.write(\"\\n\")\n",
    "    for v in tqdm(vertex_dict):\n",
    "        f.write(\"v\")\n",
    "        for p in vertex_dict[v]:\n",
    "            f.write(\" \")\n",
    "            f.write(str(p) + \"\")\n",
    "        #f.write(\"v \" + str(vertex_dict[v][0]) + \" \")\n",
    "        f.write(\"\\n\")\n",
    "    for e in tqdm(edge_list):\n",
    "        f.write(\"e \" + str(e[0]) + \" \" + str(e[1]) + \" \" + str(e[2]))\n",
    "        f.write(\"\\n\")"
   ]
  },
  {
   "cell_type": "code",
   "execution_count": 14,
   "id": "221c6764",
   "metadata": {},
   "outputs": [],
   "source": [
    "# Save to ID to ID mapping for later query transformation\n",
    "with open(\"/home/tim/cardinality_estimator/Datasets/yago/id_to_id_mapping.json\", \"w\") as f:\n",
    "    json.dump(id_to_id_mapping, f)\n",
    "    \n",
    "with open(\"/home/tim/cardinality_estimator/Datasets/yago/id_to_id_mapping_predicate.json\", \"w\") as f:\n",
    "    json.dump(id_to_id_mapping_predicate, f)"
   ]
  },
  {
   "cell_type": "markdown",
   "id": "d9f533b9",
   "metadata": {},
   "source": [
    "# End "
   ]
  },
  {
   "cell_type": "code",
   "execution_count": 72,
   "id": "b4ac2a88",
   "metadata": {},
   "outputs": [],
   "source": [
    "for e in edge_list:\n",
    "    #try:\n",
    "    assert (\"http://example.com/\" + e[0]) in vertex_dict\n",
    "    ##except:\n",
    "      #  print(\"http://example.com/\" + e[0])\n",
    "    assert (\"http://example.com/\" + e[1]) in vertex_dict\n",
    "\n"
   ]
  }
 ],
 "metadata": {
  "kernelspec": {
   "display_name": "Python 3 (ipykernel)",
   "language": "python",
   "name": "python3"
  },
  "language_info": {
   "codemirror_mode": {
    "name": "ipython",
    "version": 3
   },
   "file_extension": ".py",
   "mimetype": "text/x-python",
   "name": "python",
   "nbconvert_exporter": "python",
   "pygments_lexer": "ipython3",
   "version": "3.8.10"
  }
 },
 "nbformat": 4,
 "nbformat_minor": 5
}
